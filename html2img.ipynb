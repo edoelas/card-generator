{
 "cells": [
  {
   "cell_type": "code",
   "execution_count": 13,
   "metadata": {},
   "outputs": [],
   "source": [
    "from jinja2 import Environment, FileSystemLoader, select_autoescape\n",
    "import json\n",
    "from skimage import io\n",
    "import numpy as np\n",
    "from os import listdir\n",
    "from fpdf import FPDF\n",
    "import math\n",
    "import glob\n",
    "import os\n",
    "import asyncio\n",
    "from pathlib import Path\n",
    "from pyppeteer import launch\n",
    "import nest_asyncio\n",
    "nest_asyncio.apply()"
   ]
  },
  {
   "cell_type": "code",
   "execution_count": 34,
   "metadata": {},
   "outputs": [
    {
     "data": {
      "text/plain": "''"
     },
     "execution_count": 34,
     "metadata": {},
     "output_type": "execute_result"
    }
   ],
   "source": [
    "path = '/home/edoelas/git/card-generator'\n",
    "template = \"templates/front.html\"\n",
    "deck = \"decks/basic.json\"\n",
    "\n",
    "\n",
    "async def capture_screenshot(url, png_path):\n",
    "    browser = await launch()\n",
    "    page = await browser.newPage()\n",
    "    await page.setViewport({'width': 1000, 'height': 2000})\n",
    "    await page.goto(url)\n",
    "    await page.screenshot({'path': Path(png_path)})\n",
    "    await browser.close()\n",
    "\n",
    "def crop_card(img):\n",
    "    white = np.array([255, 255, 255, 255])\n",
    "    mask = np.abs(img - white).sum(axis=2) < 0.05\n",
    "\n",
    "    # Find the bounding box of those pixels\n",
    "    coords = np.array(np.nonzero(~mask))\n",
    "    top_left = np.min(coords, axis=1)\n",
    "    bottom_right = np.max(coords, axis=1)\n",
    "\n",
    "    margin = 1\n",
    "    out = img[top_left[0]:bottom_right[0],\n",
    "                top_left[1]:bottom_right[1]]\n",
    "    new_shape = tuple(map(sum, zip(out.shape,(margin*2,margin*2,0))))\n",
    "    new_image = np.full(new_shape,255,dtype=np.uint8)\n",
    "    new_image[margin:-margin,margin:-margin] = out\n",
    "    return new_image\n",
    "\n",
    "template = env.get_template(template)\n",
    "data = json.load(open(deck))\n",
    "\n",
    "env = Environment(\n",
    "    loader=FileSystemLoader(\"./\"),\n",
    "    autoescape=select_autoescape()\n",
    ")\n",
    "\n",
    "# Delete old files\n",
    "for f in  glob.glob('./png_out/*'): os.remove(f)\n",
    "for f in  glob.glob('./html_out/*'): os.remove(f)\n",
    "    \n",
    "# Generate new images\n",
    "for card in data:\n",
    "    html_path = './html_out/'+card['name']+'.html'\n",
    "    png_path = './png_out/'+card['name']+'.png'\n",
    "    url = 'file://{}/html_out/{}.html'.format(path, card['name'])\n",
    "\n",
    "    template.stream(card).dump(html_path) # Create HTML\n",
    "\n",
    "    asyncio.get_event_loop().run_until_complete(capture_screenshot(url, png_path))\n",
    "    image = io.imread(png_path)\n",
    "    image = crop_card(image) # Crop image\n",
    "\n",
    "    for i in range(card['amount']): # Multiply number of images\n",
    "        png_path_copies = './png_out/{}_{}.png'.format(card['name'],i+1)\n",
    "        io.imsave(png_path_copies,image)\n",
    "    os.remove(png_path)\n",
    "\n",
    "# Generate PDF\n",
    "cards_path_list = listdir('./png_out')\n",
    "cards_path_list.sort()\n",
    "num_pages = math.ceil(len(cards_path_list)/9)\n",
    "width = 2.5\n",
    "height = 3.5\n",
    "margin = 0.4\n",
    "pdf = FPDF('P', 'in', 'A4')\n",
    "\n",
    "for index, card_path in enumerate(cards_path_list):\n",
    "    if index % 9 == 0: pdf.add_page()\n",
    "    pos = index % 9\n",
    "    x_pos = margin + width*(pos%3)\n",
    "    y_pos = margin + height*math.floor(pos/3)\n",
    "    pdf.image('png_out/'+cards_path_list[index], x = x_pos, y = y_pos, w=2.5)\n",
    "\n",
    "pdf.output('./pdf_out/test.pdf', 'F')"
   ]
  },
  {
   "cell_type": "code",
   "execution_count": null,
   "metadata": {},
   "outputs": [],
   "source": []
  }
 ],
 "metadata": {
  "kernelspec": {
   "display_name": "Python 3.9.6 64-bit",
   "name": "python396jvsc74a57bd04e1d9a8909477db77738c33245c29c7265277ef753467dede8cf3f814cde494e"
  },
  "language_info": {
   "codemirror_mode": {
    "name": "ipython",
    "version": 3
   },
   "file_extension": ".py",
   "mimetype": "text/x-python",
   "name": "python",
   "nbconvert_exporter": "python",
   "pygments_lexer": "ipython3",
   "version": "3.9.6"
  },
  "orig_nbformat": 2
 },
 "nbformat": 4,
 "nbformat_minor": 2
}