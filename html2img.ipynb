{
 "cells": [
  {
   "cell_type": "markdown",
   "metadata": {},
   "source": [
    "1. generar archivo HTML\n",
    "2. renderizar archivo a png\n",
    "3. recortar archivo y guardarlo"
   ]
  },
  {
   "cell_type": "code",
   "execution_count": 1,
   "metadata": {},
   "outputs": [],
   "source": [
    "import imgkit\n",
    "from jinja2 import Environment, FileSystemLoader, select_autoescape\n",
    "import json\n",
    "from skimage import io\n",
    "import numpy as np\n",
    "from os import listdir\n",
    "from fpdf import FPDF\n",
    "import math\n",
    "import glob\n",
    "import os"
   ]
  },
  {
   "cell_type": "code",
   "execution_count": 32,
   "metadata": {},
   "outputs": [],
   "source": [
    "env = Environment(\n",
    "    loader=FileSystemLoader(\"./\"),\n",
    "    autoescape=select_autoescape()\n",
    ")\n",
    "template = env.get_template(\"./templates/front.html\")\n",
    "\n",
    "data = json.load(open('info.json',))\n",
    "\n",
    "def crop_card(img):\n",
    "    white = np.array([255, 255, 255, 255])\n",
    "    mask = np.abs(img - white).sum(axis=2) < 0.05\n",
    "\n",
    "    # Find the bounding box of those pixels\n",
    "    coords = np.array(np.nonzero(~mask))\n",
    "    top_left = np.min(coords, axis=1)\n",
    "    bottom_right = np.max(coords, axis=1)\n",
    "\n",
    "    margin = 1\n",
    "    out = img[top_left[0]:bottom_right[0],\n",
    "                top_left[1]:bottom_right[1]]\n",
    "    new_shape = tuple(map(sum, zip(out.shape,(margin*2,margin*2,0))))\n",
    "    new_image = np.full(new_shape,255,dtype=np.uint8)\n",
    "    new_image[margin:-margin,margin:-margin] = out\n",
    "    return new_image"
   ]
  },
  {
   "cell_type": "code",
   "execution_count": 33,
   "metadata": {},
   "outputs": [
    {
     "name": "stdout",
     "output_type": "stream",
     "text": [
      "Loading page (1/2)\n",
      "Warning: file:///home/edoelas/gdrive/proyectos/Juego%20mesa/assets/templates/ability%20card/template/assets/script.js:11 692\n",
      "Rendering (2/2)                                                    \n",
      "Done                                                               \n",
      "Loading page (1/2)\n",
      "Warning: file:///home/edoelas/gdrive/proyectos/Juego%20mesa/assets/templates/ability%20card/template/assets/script.js:11 692\n",
      "Rendering (2/2)                                                    \n",
      "Done                                                               \n",
      "Loading page (1/2)\n",
      "Warning: file:///home/edoelas/gdrive/proyectos/Juego%20mesa/assets/templates/ability%20card/template/assets/script.js:11 692\n",
      "Rendering (2/2)                                                    \n",
      "Done                                                               \n"
     ]
    }
   ],
   "source": [
    "options = {\n",
    "    #\"javascript-delay\": 10000,\n",
    "    \"enable-local-file-access\": None,\n",
    "    \"debug-javascript\": None,\n",
    "}\n",
    "\n",
    "# Delete old images\n",
    "files = glob.glob('./png_out/*')\n",
    "for f in files:\n",
    "    os.remove(f)\n",
    "\n",
    "# Generate new images\n",
    "for card in data['cards']:\n",
    "    html_path = './html_out/'+card['name']+'.html'\n",
    "    png_path = './png_out/'+card['name']+'_1.png'\n",
    "\n",
    "    template.stream(card).dump(html_path) # Create HTML\n",
    "\n",
    "    imgkit.from_file(html_path, png_path, options=options) # Convert HTML to PNG\n",
    "    image = io.imread(png_path)\n",
    "    image = crop_card(image) # Crop image\n",
    "\n",
    "    for i in range(card['amount']): # Multiply number of images\n",
    "        png_path = './png_out/{}_{}.png'.format(card['name'],i+1)\n",
    "        io.imsave(png_path,image)"
   ]
  },
  {
   "cell_type": "code",
   "execution_count": 4,
   "metadata": {},
   "outputs": [
    {
     "data": {
      "text/plain": "''"
     },
     "execution_count": 4,
     "metadata": {},
     "output_type": "execute_result"
    }
   ],
   "source": [
    "# Generate PDF\n",
    "\n",
    "cards_path_list = listdir('./png_out')\n",
    "cards_path_list.sort()\n",
    "num_pages = math.ceil(len(cards_path_list)/9)\n",
    "width = 2.5\n",
    "height = 3.5\n",
    "margin = 0.4\n",
    "pdf = FPDF('P', 'in', 'A4')\n",
    "\n",
    "for index, card_path in enumerate(cards_path_list):\n",
    "    if index % 9 == 0: pdf.add_page()\n",
    "    pos = index % 9\n",
    "    x_pos = margin + width*(pos%3)\n",
    "    y_pos = margin + height*math.floor(pos/3)\n",
    "    pdf.image('png_out/'+cards_path_list[index], x = x_pos, y = y_pos, w=2.5)\n",
    "\n",
    "pdf.output('./pdf_out/test.pdf', 'F')"
   ]
  },
  {
   "cell_type": "code",
   "execution_count": null,
   "metadata": {},
   "outputs": [],
   "source": []
  }
 ],
 "metadata": {
  "kernelspec": {
   "display_name": "Python 3.9.5 64-bit",
   "name": "python395jvsc74a57bd04e1d9a8909477db77738c33245c29c7265277ef753467dede8cf3f814cde494e"
  },
  "language_info": {
   "codemirror_mode": {
    "name": "ipython",
    "version": 3
   },
   "file_extension": ".py",
   "mimetype": "text/x-python",
   "name": "python",
   "nbconvert_exporter": "python",
   "pygments_lexer": "ipython3",
   "version": "3.9.5"
  },
  "orig_nbformat": 2
 },
 "nbformat": 4,
 "nbformat_minor": 2
}